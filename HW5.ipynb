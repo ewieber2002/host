{
 "cells": [
  {
   "cell_type": "markdown",
   "metadata": {},
   "source": [
    "<h1> HW 5 </h1>\n",
    "\n",
    "**EE/PHY 450/550**\n",
    "\n",
    "**Scott Prahl**\n",
    "\n",
    "**25 Apr 2019, Version 2**"
   ]
  },
  {
   "cell_type": "code",
   "execution_count": 1,
   "metadata": {},
   "outputs": [],
   "source": [
    "# Execute this cell first\n",
    "%matplotlib inline\n",
    "import scipy.constants\n",
    "import numpy as np\n",
    "import matplotlib.pyplot as plt"
   ]
  },
  {
   "cell_type": "markdown",
   "metadata": {},
   "source": [
    "# Reading for next week\n",
    "\n",
    "* Chapter 4 in Fowles, *Introduction to Modern Optics*\n",
    "* or Chapter 4 in Peatross, *Physics of Light and Optics*"
   ]
  },
  {
   "cell_type": "markdown",
   "metadata": {},
   "source": [
    "# Problem 1 (10 points)\n",
    "\n",
    "<img src=\"http://omlc.org/~prahl/host/450/week5/rayleigh.png\" width=\"50%\">\n",
    "\n",
    "It is desired to determine the unknown concentration of a solution to $\\pm0.002$% by comparing its refractive index with that of a standard solution in the Rayleigh refractometer using a sodium lamp as a source. A 5% standard solution has\n",
    "$n = 1.4316$, a 10% solution $n = 1.4425$, and $n$ varies linearly with concentration between these values. What lengths should the tubes be to achieve the required accuracy, assuming that one can estimate fringe displacements to one-twentieth of a fringe?"
   ]
  },
  {
   "cell_type": "code",
   "execution_count": 2,
   "metadata": {},
   "outputs": [
    {
     "data": {
      "image/png": "[encoded data removed]",
      "text/plain": [
       "<Figure size 432x288 with 1 Axes>"
      ]
     },
     "metadata": {
      "needs_background": "light"
     },
     "output_type": "display_data"
    },
    {
     "name": "stdout",
     "output_type": "stream",
     "text": [
      "The length needed to detect a 0.002% change is 6.76mm\n"
     ]
    }
   ],
   "source": [
    "n5  = 1.4316\n",
    "n10 = 1.4425\n",
    "lambda0 = 589.3e-9  # m\n",
    "\n",
    "# YOUR CODE HERE\n",
    "raise NotImplementedError()\n",
    "\n",
    "print(\"The length needed to detect a 0.002%% change is %.2fmm\"%(L*1000))"
   ]
  },
  {
   "cell_type": "markdown",
   "metadata": {},
   "source": [
    "# Problem 2  (10 points)\n",
    "How far must the movable mirror of a Michelson interferometer be displaced\n",
    "for 2000 fringes of the green cadmium line (508.6 nm) to cross the center of the field of view?"
   ]
  },
  {
   "cell_type": "code",
   "execution_count": 3,
   "metadata": {},
   "outputs": [
    {
     "name": "stdout",
     "output_type": "stream",
     "text": [
      "The distance the mirror must travel to pass through 2000 fringes is 0.509 mm\n"
     ]
    }
   ],
   "source": [
    "fringes = 2000\n",
    "lambda0 = 508.6e-9     # m\n",
    "\n",
    "# YOUR CODE HERE\n",
    "raise NotImplementedError()\n",
    "\n",
    "print('The distance the mirror must travel to pass through %.0f fringes is %.3f mm'%(fringes,d*1000))"
   ]
  },
  {
   "cell_type": "markdown",
   "metadata": {},
   "source": [
    "# Problem 3 (550 students)\n",
    "\n",
    "## Problem 3a (10 points)\n",
    "\n",
    "<img src=\"http://omlc.org/~prahl/host/450/week5/michelson.png\" width=\"50%\">\n",
    "\n",
    "When light extended source is used with a Michelson interferometer, rings will be produced.  The figure above is commonly used to explain why this happens.  Explain why rings are seen."
   ]
  },
  {
   "cell_type": "markdown",
   "metadata": {},
   "source": [
    "---\n",
    "## <span style=\"color:red\">Student Answer</span>\n",
    "\n",
    "*Double-click and add your answer between the lines*\n",
    "\n",
    "---"
   ]
  },
  {
   "cell_type": "markdown",
   "metadata": {},
   "source": [
    "## Problem 3b (10 points)\n",
    "Find the angle of the sixth bright fringe in a Michelson interferometer (illuminated by an extended source located at $L$).  Let the axial path difference be $d=4$mm or $d=$30mm. Assume blue light (435.8nm) and that the interferometer is adjusted in each ease so that the first bright fringe forms a maximum at the center of the pattern."
   ]
  },
  {
   "cell_type": "code",
   "execution_count": 5,
   "metadata": {},
   "outputs": [
    {
     "name": "stdout",
     "output_type": "stream",
     "text": [
      "If d=4mm then the 6th ring will be at 1.337°\n",
      "If d=30mm then the 6th ring will be at 0.488°\n"
     ]
    }
   ],
   "source": [
    "fringes = 6\n",
    "lambda0 = 435.8e-9  # m\n",
    "d1 = 4e-3           # m\n",
    "d2 = 30e-3          # m\n",
    "\n",
    "# YOUR CODE HERE\n",
    "raise NotImplementedError()\n",
    "\n",
    "print('If d=%.0fmm then the %.0fth ring will be at %.3f°'%(d1*1000, fringes, np.degrees(theta1)))\n",
    "print('If d=%.0fmm then the %.0fth ring will be at %.3f°'%(d2*1000, fringes, np.degrees(theta2)))"
   ]
  },
  {
   "cell_type": "markdown",
   "metadata": {},
   "source": [
    "# Problem 4  (10 points)\n",
    "The red cadmium line (643.8nm) has an emission spectrum that is shaped by Doppler broadening.  It can be\n",
    "proved that the path difference at which the visibility curve falls to its half value is\n",
    "2.77/$\\Delta k$, where $\\Delta k$ is the width of the line at half maximum, expressed in propagation\n",
    "numbers. In a Michelson interferometer, the visibility drops to half when $d=50$mm.  What is the width of this emission line? *Don't forget that $k=2\\pi/\\lambda$ but $\\Delta k\\ne 2\\pi/\\Delta\\lambda$.* "
   ]
  },
  {
   "cell_type": "code",
   "execution_count": 6,
   "metadata": {},
   "outputs": [
    {
     "name": "stdout",
     "output_type": "stream",
     "text": [
      "The linewidth of the cadmium emission is 0.0018 nm\n"
     ]
    }
   ],
   "source": [
    "lambda0 = 643.8e-9    # m\n",
    "d = 50e-3             # m\n",
    "\n",
    "# YOUR CODE HERE\n",
    "raise NotImplementedError()\n",
    "\n",
    "print(\"The linewidth of the cadmium emission is %.4f nm\"%(delta_lambda*1e9))"
   ]
  },
  {
   "cell_type": "markdown",
   "metadata": {},
   "source": [
    "# Problem 5\n",
    "\n",
    "<img src=\"http://omlc.org/~prahl/host/450/week5/jamin.png\" width=\"40%\">\n",
    "\n",
    "In the Jamin refractometer above has the two compensation plates ($C_1$ and $C_2$) that are adjusted so that the optical pathlength in the two arms match and fringes are seen.  The two compensating plates are fixed at 5° to each other. The compensating plates are 4mm thick and have an index of refraction of 1.500.  Assume that the light source is green light operating at 550nm."
   ]
  },
  {
   "cell_type": "markdown",
   "metadata": {},
   "source": [
    "## Problem 5a (5 points)\n",
    "If the fringes are first observed when one plate is vertical, how much is the vertical arm ahead of the tilted arm?"
   ]
  },
  {
   "cell_type": "code",
   "execution_count": 7,
   "metadata": {},
   "outputs": [
    {
     "name": "stdout",
     "output_type": "stream",
     "text": [
      "The initial optical path correction is 13.89 wavelengths\n"
     ]
    }
   ],
   "source": [
    "n = 1.500\n",
    "d = 4e-3            # m \n",
    "lambda0 = 550e-9    # m\n",
    "tilt = 5            # degrees\n",
    "\n",
    "# YOUR CODE HERE\n",
    "raise NotImplementedError()\n",
    "\n",
    "print(\"The initial optical path correction is %.2f wavelengths\"%(opd0/lambda0))"
   ]
  },
  {
   "cell_type": "markdown",
   "metadata": {},
   "source": [
    "## Problem 5b\n",
    "\n",
    "What happens when the compensation plates have been rotated -2.5°?"
   ]
  },
  {
   "cell_type": "code",
   "execution_count": 8,
   "metadata": {},
   "outputs": [
    {
     "name": "stdout",
     "output_type": "stream",
     "text": [
      "The optical path correction at -2.5° is 0.00 wavelengths\n"
     ]
    }
   ],
   "source": [
    "theta=-2.5         # degrees\n",
    "\n",
    "# YOUR CODE HERE\n",
    "raise NotImplementedError()\n",
    "\n",
    "print(\"The optical path correction at -2.5° is %.2f wavelengths\"%(opd/lambda0))"
   ]
  },
  {
   "cell_type": "markdown",
   "metadata": {},
   "source": [
    "## Problem 5c (10 points)\n",
    "\n",
    "How far must the compensator be turned to so that through exactly 20 fringes pass by?"
   ]
  },
  {
   "cell_type": "code",
   "execution_count": 9,
   "metadata": {},
   "outputs": [
    {
     "name": "stdout",
     "output_type": "stream",
     "text": [
      "theta=-1.80° has an optical path correction of 20.0 fringes\n"
     ]
    }
   ],
   "source": [
    "theta=-1.8         # degrees\n",
    "\n",
    "# YOUR CODE HERE\n",
    "raise NotImplementedError()\n",
    "\n",
    "print(\"theta=%.2f° has an optical path correction of %.1f fringes\"%(theta,fringes))"
   ]
  },
  {
   "cell_type": "code",
   "execution_count": 10,
   "metadata": {},
   "outputs": [
    {
     "data": {
      "image/png": "[encoded data removed]",
      "text/plain": [
       "<Figure size 432x288 with 1 Axes>"
      ]
     },
     "metadata": {
      "needs_background": "light"
     },
     "output_type": "display_data"
    }
   ],
   "source": [
    "n = 1.500\n",
    "d = 4e-3            # m\n",
    "lambda0 = 550e-9    # m\n",
    "tilt = 5            # degrees\n",
    "\n",
    "# YOUR CODE HERE\n",
    "raise NotImplementedError()\n",
    "\n",
    "plt.plot(theta,fringes)\n",
    "plt.axhline(0, color='black', linestyle=':')\n",
    "plt.axhline(20, color='black', linestyle=':')\n",
    "plt.xlabel('Compensator Dial (°)')\n",
    "plt.ylabel('Fringes from Vertical Position')\n",
    "plt.title('HW 5, Problem 5')\n",
    "plt.show()"
   ]
  },
  {
   "cell_type": "markdown",
   "metadata": {},
   "source": [
    "# Problem 6  (10 points)\n",
    "The two tubes of a Jamin interferometer are each 400mm long. One is evacuated and the other contains argon at atmospheric pressure. The refractive index of Argon at atmospheric pressure is 1.00028. How many fringes of the green mercury line would be counted when the argon is pumped out? Answer: 205"
   ]
  },
  {
   "cell_type": "code",
   "execution_count": 11,
   "metadata": {},
   "outputs": [
    {
     "name": "stdout",
     "output_type": "stream",
     "text": [
      "As the argon is removed, one would count 410 fringes\n"
     ]
    }
   ],
   "source": [
    "n = 1.00028\n",
    "lambda0 = 546.1e-9    # m\n",
    "d = 400e-3            # m\n",
    "\n",
    "# YOUR CODE HERE\n",
    "raise NotImplementedError()\n",
    "\n",
    "print(\"As the argon is removed, one would count %.0f fringes\"%fringes)"
   ]
  },
  {
   "cell_type": "markdown",
   "metadata": {},
   "source": [
    "## Problem 7 \n",
    "A Michelson interferometer can be used to determine the index of refraction of a gas. The gas is made to flow into an evacuated glass cell of length $\\ell$ placed in one arm of the interferometer. The interference fringes are counted as they move across the view aperture when the gas flows into the cell. "
   ]
  },
  {
   "cell_type": "markdown",
   "metadata": {},
   "source": [
    "## Problem 7a  (5 points)\n",
    "\n",
    "Show that the effective optical path difference of the light beam for the full cell versus the evacuated cell is $2\\ell(n — 1)$, where $n$ is the index of refraction of the gas, and hence that a number $N = 4\\ell(n - 1)/\\lambda$ fringes move across the field of view as the cell is filled. "
   ]
  },
  {
   "cell_type": "markdown",
   "metadata": {},
   "source": [
    "---\n",
    "## <span style=\"color:red\">Student Answer</span>\n",
    "\n",
    "*Double-click and add your answer between the lines*\n",
    "\n",
    "---"
   ]
  },
  {
   "cell_type": "markdown",
   "metadata": {},
   "source": [
    "## Problem 7b (5 points)\n",
    "How many fringes would be counted if the gas were air ($n=1.0003$) for a 100mm cell using yellow sodium light $\\lambda = $590nm?"
   ]
  },
  {
   "cell_type": "code",
   "execution_count": 13,
   "metadata": {},
   "outputs": [
    {
     "name": "stdout",
     "output_type": "stream",
     "text": [
      "As the argon is removed, one would count 203 fringes\n"
     ]
    }
   ],
   "source": [
    "n = 1.0003\n",
    "lambda0 = 590e-9    # m\n",
    "ell = 100e-3        # m\n",
    "\n",
    "# YOUR CODE HERE\n",
    "raise NotImplementedError()\n",
    "\n",
    "print(\"As the argon is removed, one would count %.0f fringes\"%fringes)"
   ]
  },
  {
   "cell_type": "markdown",
   "metadata": {},
   "source": [
    "# Problem 8 (5 points)\n",
    "A filter is used to obtain approximately monochromatic light from a white source. If the pass band of the filter is 10nm, what is the coherence length and coherence time of the filtered light? The mean wavelength is 600nm."
   ]
  },
  {
   "cell_type": "code",
   "execution_count": 14,
   "metadata": {},
   "outputs": [
    {
     "name": "stdout",
     "output_type": "stream",
     "text": [
      "The coherence length is 36 microns\n",
      "The coherence time   is 120 fs\n"
     ]
    }
   ],
   "source": [
    "lambda0 = 600e-9                    # m\n",
    "delta_lambda = 10e-9                # m\n",
    "c = scipy.constants.speed_of_light  # m/s\n",
    "\n",
    "# YOUR CODE HERE\n",
    "raise NotImplementedError()\n",
    "\n",
    "print('The coherence length is %.0f microns'%(lc*1e6))\n",
    "print('The coherence time   is %.0f fs'%(tc*1e15))"
   ]
  },
  {
   "cell_type": "markdown",
   "metadata": {},
   "source": [
    "# Problem 9 (5 points)\n",
    "What is the line width in hertz and in nanometers of the light from a helium-neon laser whose coherence length is 5km? The wavelength is 632.8nm."
   ]
  },
  {
   "cell_type": "code",
   "execution_count": 15,
   "metadata": {},
   "outputs": [
    {
     "name": "stdout",
     "output_type": "stream",
     "text": [
      "The line width is an impressive 0.00000008 nm or 60 kHz\n"
     ]
    }
   ],
   "source": [
    "lc = 5000                          # m\n",
    "lambda0 = 632.8e-9                 # m\n",
    "c = scipy.constants.speed_of_light # m/s\n",
    "\n",
    "# YOUR CODE HERE\n",
    "raise NotImplementedError()\n",
    "\n",
    "print('The line width is an impressive %.8f nm or %.0f kHz'%(delta_lambda*1e9, dnu/1000))"
   ]
  },
  {
   "cell_type": "markdown",
   "metadata": {},
   "source": [
    "# Problem 10 (10 points)\n",
    "A tungsten-filament lamp having a long straight filament that is 0.1mm in diameter is used as a light source for an interference experiment. "
   ]
  },
  {
   "cell_type": "markdown",
   "metadata": {},
   "source": [
    "## Problem 10a\n",
    "\n",
    "At what distance from the lamp must the aperture be placed in order that the transverse coherence width is at least 1mm? "
   ]
  },
  {
   "cell_type": "code",
   "execution_count": 16,
   "metadata": {},
   "outputs": [
    {
     "name": "stdout",
     "output_type": "stream",
     "text": [
      "To achieve transverse coherence over 1 mm, the source must be 250 mm away\n"
     ]
    }
   ],
   "source": [
    "lambda0 = 400e-9    # m\n",
    "d = 0.1e-3          # m\n",
    "delta_x = 1e-3      # m\n",
    "\n",
    "# YOUR CODE HERE\n",
    "raise NotImplementedError()\n",
    "\n",
    "print('To achieve transverse coherence over %.0f mm, the source must be %.0f mm away'%(delta_x*1000,R*1000))"
   ]
  },
  {
   "cell_type": "markdown",
   "metadata": {},
   "source": [
    "## Problem 10b \n",
    "If a double-slit aperture is used, why should the slits be oriented parallel to the lamp filament?"
   ]
  },
  {
   "cell_type": "markdown",
   "metadata": {},
   "source": [
    "---\n",
    "## <span style=\"color:red\">Student Answer</span>\n",
    "\n",
    "*Double-click and add your answer between the lines*\n",
    "\n",
    "---"
   ]
  },
  {
   "cell_type": "markdown",
   "metadata": {},
   "source": [
    "# Problem 11 (10 points, 550 students)\n",
    "Show that the power spectrum of a Gaussian pulse\n",
    "$$\n",
    "f(t) = A \\exp(-a t^2 - i\\omega_0 t)\n",
    "$$\n",
    "is also a Gaussian function centered at the frequency $\\omega_0$"
   ]
  },
  {
   "cell_type": "markdown",
   "metadata": {},
   "source": [
    "---\n",
    "## <span style=\"color:red\">Student Answer</span>\n",
    "\n",
    "*Double-click and add your answer between the lines*\n",
    "\n",
    "---"
   ]
  },
  {
   "cell_type": "markdown",
   "metadata": {},
   "source": [
    "# Problem 12\n",
    "\n",
    "## Problem 12a (10 points, 550 students)\n",
    "Describe (and plot) what would be observed if a double slit were illuminated by light of the\n",
    "two yellow mercury lines, 576.9 nm and 579.0 nm. "
   ]
  },
  {
   "cell_type": "markdown",
   "metadata": {},
   "source": [
    "---\n",
    "## <span style=\"color:red\">Student Answer</span>\n",
    "\n",
    "*Double-click and add your answer between the lines*\n",
    "\n",
    "---"
   ]
  },
  {
   "cell_type": "code",
   "execution_count": 19,
   "metadata": {},
   "outputs": [
    {
     "data": {
      "image/png": "[encoded data removed]",
      "text/plain": [
       "<Figure size 432x288 with 1 Axes>"
      ]
     },
     "metadata": {
      "needs_background": "light"
     },
     "output_type": "display_data"
    }
   ],
   "source": [
    "lambda1 = 576.9e-9   # m\n",
    "lambda2 = 579.0e-9   # m\n",
    "L=1                  # m\n",
    "a=0.1e-3             # m\n",
    "\n",
    "# YOUR CODE HERE\n",
    "raise NotImplementedError()\n",
    "\n",
    "plt.plot(y * 1000, I1)\n",
    "plt.plot(y * 1000, I2)\n",
    "plt.xlabel('Position above centerline on Screen (mm)')\n",
    "plt.ylabel('Normalized Intensity')\n",
    "plt.title('The two yellow beams overlap near optical axis')\n",
    "plt.show()"
   ]
  },
  {
   "cell_type": "markdown",
   "metadata": {},
   "source": [
    "## Problem 12b (10 points, 550 students)\n",
    "Assuming the two lines to be perfectly sharp and of equal intensity, calculate and plot the visibility of the fringes near $m = 50$."
   ]
  },
  {
   "cell_type": "code",
   "execution_count": 20,
   "metadata": {},
   "outputs": [
    {
     "data": {
      "image/png": "[encoded data removed]",
      "text/plain": [
       "<Figure size 432x288 with 1 Axes>"
      ]
     },
     "metadata": {
      "needs_background": "light"
     },
     "output_type": "display_data"
    }
   ],
   "source": [
    "lambda1 = 576.9e-9               # m\n",
    "lambda2 = 579.0e-9               # m\n",
    "L=1                              # m\n",
    "a=0.1e-3                         # m\n",
    "y = np.linspace(0,200,1000)*1e-3 # m\n",
    "\n",
    "# YOUR CODE HERE\n",
    "raise NotImplementedError()\n",
    "\n",
    "plt.text(50e3*fringe_spacing,1.9, \"m=50\", ha='center',va='bottom')\n",
    "plt.xlabel('Position above centerline on Screen (mm)')\n",
    "plt.ylabel('Normalized Intensity')\n",
    "plt.ylim(0,2.1)\n",
    "plt.show()"
   ]
  }
 ],
 "metadata": {
  "kernelspec": {
   "display_name": "Python 3",
   "language": "python",
   "name": "python3"
  },
  "language_info": {
   "codemirror_mode": {
    "name": "ipython",
    "version": 3
   },
   "file_extension": ".py",
   "mimetype": "text/x-python",
   "name": "python",
   "nbconvert_exporter": "python",
   "pygments_lexer": "ipython3",
   "version": "3.7.1"
  },
  "toc": {
   "nav_menu": {},
   "number_sections": false,
   "sideBar": false,
   "skip_h1_title": false,
   "toc_cell": false,
   "toc_position": {},
   "toc_section_display": "none",
   "toc_window_display": true
  }
 },
 "nbformat": 4,
 "nbformat_minor": 2
}
