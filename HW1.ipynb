{
 "cells": [
  {
   "cell_type": "markdown",
   "metadata": {},
   "source": [
    "# HW 1 Polarization\n",
    "\n",
    "**EE/PHY 450/550**\n",
    "\n",
    "**Scott Prahl**\n",
    "\n",
    "**1 Apr 2019, Version 2**"
   ]
  },
  {
   "cell_type": "code",
   "execution_count": 1,
   "metadata": {},
   "outputs": [],
   "source": [
    "%matplotlib inline\n",
    "import sympy\n",
    "import numpy as np\n",
    "import matplotlib.pyplot as plt\n",
    "import pypolar.jones as jones\n",
    "import pypolar.sym_jones as sym_jones\n",
    "import pypolar.sym_mueller as sym_mueller\n",
    "\n",
    "sympy.init_printing(use_unicode=True)"
   ]
  },
  {
   "cell_type": "markdown",
   "metadata": {},
   "source": [
    "# Reading for the first and second lectures\n",
    "\n",
    "* Fowles, *Introduction to Modern Optics*, Chapter 1 &amp; 2 \n",
    "* Feynman, *Feynman Lectures on Physics II*, Chapter 1\n",
    "* Refresh your understanding of 2$\\times$2 matrix and vector multiplication\n",
    "* Refresh your understanding of complex arithmetic and Euler's law\n",
    "* and/or Peatross, *Physics of Light and Optics*, Chapter 6"
   ]
  },
  {
   "cell_type": "markdown",
   "metadata": {},
   "source": [
    "# Problem 1 (10 points) \n",
    "\n",
    "It is possible to generate ultrasonic waves in crystals with wavelengths similar to light (500nm) but with lower frequencies (600MHz). Compute the corresponding speed of such a wave."
   ]
  },
  {
   "cell_type": "code",
   "execution_count": 2,
   "metadata": {},
   "outputs": [
    {
     "name": "stdout",
     "output_type": "stream",
     "text": [
      "The speed if the ultrasonic wave is 300.0 m/s\n"
     ]
    }
   ],
   "source": [
    "# YOUR CODE HERE\n",
    "raise NotImplementedError()\n",
    "\n",
    "print(\"The speed if the ultrasonic wave is %.1f m/s\"%v)"
   ]
  },
  {
   "cell_type": "markdown",
   "metadata": {},
   "source": [
    "# Problem 2 (10 Points)\n",
    "\n",
    "### Problem 2a \n",
    "\n",
    "Create a column with time running from $t=-\\tau/2$ to $t=\\tau$ in steps of $\\tau/4$. Create a second column of values of $\\omega t$ with $\\omega=2\\pi/\\tau$.  In the last two columns list $\\sin(\\pi/4 + \\omega t)$ and $\\sin(\\pi/4 - \\omega t)$.  "
   ]
  },
  {
   "cell_type": "markdown",
   "metadata": {},
   "source": [
    "---\n",
    "## <span style=\"color:red\">Student Answer</span>\n",
    "\n",
    "*Double-click and add your answer between the lines*\n",
    "\n",
    "---"
   ]
  },
  {
   "cell_type": "code",
   "execution_count": 3,
   "metadata": {},
   "outputs": [
    {
     "name": "stdout",
     "output_type": "stream",
     "text": [
      "   t     omega*t  sin(pi/4+omega*t) sin(pi/4-omega*t)\n",
      "-0.5000  -3.142       -0.707           -0.707\n",
      "-0.3750  -2.356       -1.000           +0.000\n",
      "-0.2500  -1.571       -0.707           +0.707\n",
      "-0.1250  -0.785       +0.000           +1.000\n",
      "+0.0000  +0.000       +0.707           +0.707\n",
      "+0.1250  +0.785       +1.000           +0.000\n",
      "+0.2500  +1.571       +0.707           -0.707\n",
      "+0.3750  +2.356       +0.000           -1.000\n",
      "+0.5000  +3.142       -0.707           -0.707\n",
      "+0.6250  +3.927       -1.000           -0.000\n",
      "+0.7500  +4.712       -0.707           +0.707\n",
      "+0.8750  +5.498       -0.000           +1.000\n",
      "+1.0000  +6.283       +0.707           +0.707\n"
     ]
    }
   ],
   "source": [
    "# YOUR CODE HERE\n",
    "raise NotImplementedError()"
   ]
  },
  {
   "cell_type": "markdown",
   "metadata": {},
   "source": [
    "### Problem 2b\n",
    "\n",
    "Plot the two sine waves."
   ]
  },
  {
   "cell_type": "code",
   "execution_count": 4,
   "metadata": {},
   "outputs": [
    {
     "data": {
      "image/png": "[encoded data removed]",
      "text/plain": [
       "<Figure size 432x288 with 1 Axes>"
      ]
     },
     "metadata": {
      "needs_background": "light"
     },
     "output_type": "display_data"
    }
   ],
   "source": [
    "# YOUR CODE HERE\n",
    "raise NotImplementedError()"
   ]
  },
  {
   "cell_type": "markdown",
   "metadata": {},
   "source": [
    "# Problem 3\n",
    "Assume unpolarized light is perpendicularly incident on a linear polarizer.  The polarization axis of the linear polarizer has been rotated to an angle $\\theta$ from the horizontal. Give the Jones vector for each of the following"
   ]
  },
  {
   "cell_type": "markdown",
   "metadata": {},
   "source": [
    "## 3a (5 points)\n",
    "The incident unpolarized light."
   ]
  },
  {
   "cell_type": "markdown",
   "metadata": {},
   "source": [
    "---\n",
    "## <span style=\"color:red\">Student Answer</span>\n",
    "\n",
    "*Double-click and add your answer between the lines*\n",
    "\n",
    "---"
   ]
  },
  {
   "cell_type": "markdown",
   "metadata": {},
   "source": [
    "## 3b (10 points)\n",
    "The Jones vector for light after it has passed through through a linear polarizer oriented at an angle $\\theta$ from the horizontal."
   ]
  },
  {
   "cell_type": "markdown",
   "metadata": {},
   "source": [
    "---\n",
    "## <span style=\"color:red\">Student Answer</span>\n",
    "\n",
    "*Double-click and add your answer between the lines*\n",
    "\n",
    "---"
   ]
  },
  {
   "cell_type": "markdown",
   "metadata": {},
   "source": [
    "## 3c (10 points)\n",
    "\n",
    "The Jones vector for the light after passing through a polarizer at an angle $\\theta$ and then through a half-wave plate oriented at $\\phi$ to the horizontal."
   ]
  },
  {
   "cell_type": "code",
   "execution_count": 5,
   "metadata": {},
   "outputs": [
    {
     "data": {
      "image/png": "[encoded data removed]",
      "text/latex": [
       "$$\\left[\\begin{matrix}i \\cos{\\left (2 \\phi - \\theta \\right )}\\\\i \\sin{\\left (2 \\phi - \\theta \\right )}\\end{matrix}\\right]$$"
      ],
      "text/plain": [
       "⎡ⅈ⋅cos(2⋅φ - θ)⎤\n",
       "⎢              ⎥\n",
       "⎣ⅈ⋅sin(2⋅φ - θ)⎦"
      ]
     },
     "execution_count": 5,
     "metadata": {},
     "output_type": "execute_result"
    }
   ],
   "source": [
    "# YOUR CODE HERE\n",
    "raise NotImplementedError()"
   ]
  },
  {
   "cell_type": "markdown",
   "metadata": {},
   "source": [
    "# Problem 4\n",
    "\n",
    "Assuming perfect linear polarizers and unpolarized incident light.  Use Mueller matrices to solve the following.  \n",
    "\n",
    "##  Example\n",
    "How much light passes one polarizer?"
   ]
  },
  {
   "cell_type": "code",
   "execution_count": 6,
   "metadata": {},
   "outputs": [
    {
     "name": "stdout",
     "output_type": "stream",
     "text": [
      "The remaining fraction is 50.0%\n"
     ]
    }
   ],
   "source": [
    "# create Stokes vector of unpolarized light\n",
    "incident = sym_mueller.stokes_unpolarized()\n",
    "\n",
    "#create a Mueller matrix for linear polarized light at an angle theta\n",
    "linear = sym_mueller.op_linear_polarizer(theta)\n",
    "\n",
    "# propagate the incident light though the polarizer\n",
    "result = linear * incident\n",
    "\n",
    "# extract the intensity from the resulting stokes vector\n",
    "fraction = sym_mueller.intensity(result)*100\n",
    "\n",
    "print(\"The remaining fraction is %.1f%%\" % fraction)"
   ]
  },
  {
   "cell_type": "markdown",
   "metadata": {},
   "source": [
    "#  4a (10 points)\n",
    "How much light passes two successive aligned polarizers?"
   ]
  },
  {
   "cell_type": "code",
   "execution_count": 7,
   "metadata": {},
   "outputs": [
    {
     "name": "stdout",
     "output_type": "stream",
     "text": [
      "The remaining fraction is 50.0%\n"
     ]
    }
   ],
   "source": [
    "# YOUR CODE HERE\n",
    "raise NotImplementedError()"
   ]
  },
  {
   "cell_type": "markdown",
   "metadata": {},
   "source": [
    "##  4b (5 points)\n",
    "How much light passes two polarizers if their axes are at 45$^\\circ$ to each other?"
   ]
  },
  {
   "cell_type": "code",
   "execution_count": 8,
   "metadata": {},
   "outputs": [
    {
     "name": "stdout",
     "output_type": "stream",
     "text": [
      "The remaining fraction is 25.0%\n"
     ]
    }
   ],
   "source": [
    "# YOUR CODE HERE\n",
    "raise NotImplementedError()"
   ]
  },
  {
   "cell_type": "markdown",
   "metadata": {},
   "source": [
    "##  4c (5 points)\n",
    "How much light passes two crossed polarizers?"
   ]
  },
  {
   "cell_type": "code",
   "execution_count": 9,
   "metadata": {},
   "outputs": [
    {
     "name": "stdout",
     "output_type": "stream",
     "text": [
      "The remaining fraction is 0.0%\n"
     ]
    }
   ],
   "source": [
    "# YOUR CODE HERE\n",
    "raise NotImplementedError()"
   ]
  },
  {
   "cell_type": "markdown",
   "metadata": {},
   "source": [
    "##  4d (5 points)\n",
    "How much light passes two crossed polarizers when a polarizer oriented at 45$^\\circ$ is inserted between them?"
   ]
  },
  {
   "cell_type": "code",
   "execution_count": 10,
   "metadata": {},
   "outputs": [
    {
     "name": "stdout",
     "output_type": "stream",
     "text": [
      "The remaining fraction is 12.5%\n"
     ]
    }
   ],
   "source": [
    "# YOUR CODE HERE\n",
    "raise NotImplementedError()"
   ]
  },
  {
   "cell_type": "markdown",
   "metadata": {},
   "source": [
    "# Problem 5 \n",
    "Real polarizers are not perfect.  "
   ]
  },
  {
   "cell_type": "markdown",
   "metadata": {},
   "source": [
    "## Problem 5a (5 points)\n",
    "\n",
    "Construct a Mueller matrix that for a linear polarizer that produces a linearly polarized light with 30% of the total intensity of the incident unpolarized beam.\n",
    "\n",
    "*Hint.  Use `sym_mueller.op_attenuator` to create an attenuator and multiply by `sym_mueller.op_linear_polarizer` to get a Mueller matrix for this real polarizer.*"
   ]
  },
  {
   "cell_type": "code",
   "execution_count": 11,
   "metadata": {},
   "outputs": [
    {
     "data": {
      "image/png": "[encoded data removed]",
      "text/latex": [
       "$$\\left[\\begin{matrix}0.3 & 0.3 \\cos{\\left (2 \\theta \\right )} & 0.3 \\sin{\\left (2 \\theta \\right )} & 0\\\\0.3 \\cos{\\left (2 \\theta \\right )} & 0.3 \\cos^{2}{\\left (2 \\theta \\right )} & 0.3 \\sin{\\left (2 \\theta \\right )} \\cos{\\left (2 \\theta \\right )} & 0\\\\0.3 \\sin{\\left (2 \\theta \\right )} & 0.3 \\sin{\\left (2 \\theta \\right )} \\cos{\\left (2 \\theta \\right )} & 0.3 \\sin^{2}{\\left (2 \\theta \\right )} & 0\\\\0 & 0 & 0 & 0\\end{matrix}\\right]$$"
      ],
      "text/plain": [
       "⎡    0.3           0.3⋅cos(2⋅θ)           0.3⋅sin(2⋅θ)       0⎤\n",
       "⎢                                                             ⎥\n",
       "⎢                         2                                   ⎥\n",
       "⎢0.3⋅cos(2⋅θ)      0.3⋅cos (2⋅θ)      0.3⋅sin(2⋅θ)⋅cos(2⋅θ)  0⎥\n",
       "⎢                                                             ⎥\n",
       "⎢                                                2            ⎥\n",
       "⎢0.3⋅sin(2⋅θ)  0.3⋅sin(2⋅θ)⋅cos(2⋅θ)      0.3⋅sin (2⋅θ)      0⎥\n",
       "⎢                                                             ⎥\n",
       "⎣     0                  0                      0            0⎦"
      ]
     },
     "execution_count": 11,
     "metadata": {},
     "output_type": "execute_result"
    }
   ],
   "source": [
    "# YOUR CODE HERE\n",
    "raise NotImplementedError()"
   ]
  },
  {
   "cell_type": "markdown",
   "metadata": {},
   "source": [
    "##  5b (5 points)  \n",
    "If the incident light is linearly polarized and aligned with the polarizer axis, how much light will pass?"
   ]
  },
  {
   "cell_type": "code",
   "execution_count": 12,
   "metadata": {},
   "outputs": [
    {
     "name": "stdout",
     "output_type": "stream",
     "text": [
      "The remaining fraction is 60.0%\n"
     ]
    }
   ],
   "source": [
    "# YOUR CODE HERE\n",
    "raise NotImplementedError()"
   ]
  },
  {
   "cell_type": "markdown",
   "metadata": {},
   "source": [
    "##  5c (5 points)\n",
    "What percentage of unpolarized light passes through two of these real polarizers when their axes are aligned?"
   ]
  },
  {
   "cell_type": "code",
   "execution_count": 13,
   "metadata": {},
   "outputs": [
    {
     "name": "stdout",
     "output_type": "stream",
     "text": [
      "The remaining fraction is 18.0%\n"
     ]
    }
   ],
   "source": [
    "# YOUR CODE HERE\n",
    "raise NotImplementedError()"
   ]
  },
  {
   "cell_type": "markdown",
   "metadata": {},
   "source": [
    "##  5d (5 points)\n",
    "What percentage of unpolarized light passes through two of these real polarizers if their axes are at 45$^\\circ$ to each other?"
   ]
  },
  {
   "cell_type": "code",
   "execution_count": 14,
   "metadata": {},
   "outputs": [
    {
     "name": "stdout",
     "output_type": "stream",
     "text": [
      "The remaining fraction is 9.0%\n"
     ]
    }
   ],
   "source": [
    "# YOUR CODE HERE\n",
    "raise NotImplementedError()"
   ]
  },
  {
   "cell_type": "markdown",
   "metadata": {},
   "source": [
    "##  5e (5 points)\n",
    "What percentage of unpolarized light will pass through three real polarizers with axes at 0$^\\circ$, 45$^\\circ$, and 90$^\\circ$?"
   ]
  },
  {
   "cell_type": "code",
   "execution_count": 15,
   "metadata": {},
   "outputs": [
    {
     "name": "stdout",
     "output_type": "stream",
     "text": [
      "The remaining fraction is 2.7%\n"
     ]
    }
   ],
   "source": [
    "# YOUR CODE HERE\n",
    "raise NotImplementedError()"
   ]
  },
  {
   "cell_type": "markdown",
   "metadata": {},
   "source": [
    "# Problem 6\n",
    "The intensity of a unpolarized source of light may be controlled by changing the angle $\\theta$ between the principal axes of a linear polarizer and analyzer. The polarizer and analyzer are identical and transmit 30% of unpolarized light that falls on them."
   ]
  },
  {
   "cell_type": "markdown",
   "metadata": {},
   "source": [
    "##  6a (10 points)\n",
    "What value of $\\theta$ will transmit 10% of the incident unpolarized light? *Hint. Use `sympy.solve()`*"
   ]
  },
  {
   "cell_type": "code",
   "execution_count": 16,
   "metadata": {},
   "outputs": [
    {
     "name": "stdout",
     "output_type": "stream",
     "text": [
      "The desired angle is 41.8°\n"
     ]
    }
   ],
   "source": [
    "# YOUR CODE HERE\n",
    "raise NotImplementedError()"
   ]
  },
  {
   "cell_type": "markdown",
   "metadata": {},
   "source": [
    "##  6b (10 points)\n",
    "What error $\\Delta \\theta$ will cause a 1% error in the transmitted light?"
   ]
  },
  {
   "cell_type": "code",
   "execution_count": 17,
   "metadata": {},
   "outputs": [
    {
     "name": "stdout",
     "output_type": "stream",
     "text": [
      "The desired angle is 0.3°\n"
     ]
    }
   ],
   "source": [
    "# YOUR CODE HERE\n",
    "raise NotImplementedError()\n"
   ]
  },
  {
   "cell_type": "markdown",
   "metadata": {},
   "source": [
    "# Problem 7 (550 only).  \n",
    "\n",
    "Show that a Babinet-Soleil Compensator can generate any polarization state."
   ]
  },
  {
   "cell_type": "code",
   "execution_count": 18,
   "metadata": {},
   "outputs": [],
   "source": [
    "# YOUR CODE HERE\n",
    "raise NotImplementedError()\n"
   ]
  },
  {
   "cell_type": "markdown",
   "metadata": {},
   "source": [
    "# Problem 8 (550 only).  \n",
    "\n",
    "Analyze a Fresnel rhomb to demonstrate it affects the polarization of the incident beam"
   ]
  },
  {
   "cell_type": "code",
   "execution_count": null,
   "metadata": {
    "scrolled": true
   },
   "outputs": [],
   "source": [
    "# YOUR CODE HERE\n",
    "raise NotImplementedError()"
   ]
  }
 ],
 "metadata": {
  "kernelspec": {
   "display_name": "Python 3",
   "language": "python",
   "name": "python3"
  },
  "language_info": {
   "codemirror_mode": {
    "name": "ipython",
    "version": 3
   },
   "file_extension": ".py",
   "mimetype": "text/x-python",
   "name": "python",
   "nbconvert_exporter": "python",
   "pygments_lexer": "ipython3",
   "version": "3.7.1"
  },
  "toc": {
   "nav_menu": {},
   "number_sections": false,
   "sideBar": false,
   "skip_h1_title": false,
   "toc_cell": false,
   "toc_position": {},
   "toc_section_display": "block",
   "toc_window_display": false
  }
 },
 "nbformat": 4,
 "nbformat_minor": 2
}
