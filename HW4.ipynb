{
 "cells": [
  {
   "cell_type": "markdown",
   "metadata": {},
   "source": [
    "<h1>HW 4</h1>\n",
    "\n",
    "**EE/PHY 448/548**\n",
    "\n",
    "**Scott Prahl**\n",
    "\n",
    "**25 Apr 2019, Version 1**"
   ]
  },
  {
   "cell_type": "code",
   "execution_count": 1,
   "metadata": {},
   "outputs": [],
   "source": [
    "%matplotlib inline\n",
    "import numpy as np\n",
    "import matplotlib.pyplot as plt"
   ]
  },
  {
   "cell_type": "markdown",
   "metadata": {},
   "source": [
    "# Reading for next week\n",
    "\n",
    "* Chapter 4 in Fowles, *Introduction to Modern Optics*\n",
    "* or Chapter 4 in Peatross, *Physics of Light and Optics*"
   ]
  },
  {
   "cell_type": "markdown",
   "metadata": {},
   "source": [
    "# Problems"
   ]
  },
  {
   "cell_type": "markdown",
   "metadata": {},
   "source": [
    "## Problem 1 (points 10)\n",
    "Young's experiment is performed with orange light from a krypton arc lamp (605.8nm). If the fringes are measured 1000mm from the double slit, it is found that 25 of them occupy a distance of 12.87mm between centers. Find the distance between the centers of the two slits. "
   ]
  },
  {
   "cell_type": "code",
   "execution_count": 2,
   "metadata": {},
   "outputs": [
    {
     "name": "stdout",
     "output_type": "stream",
     "text": [
      "Distance between the two slits is = 1.18 mm\n"
     ]
    }
   ],
   "source": [
    "lambda0 = 605.8e-9   # [m] -wavelength\n",
    "x       = 1000e-3    # [m] -Distance from fringes to slits\n",
    "y       = 12.87e-3   # [m] -Collective fringe width\n",
    "num_fringes = 25\n",
    "\n",
    "# YOUR CODE HERE\n",
    "raise NotImplementedError()\n",
    "\n",
    "print('Distance between the two slits is = %.2f mm' % (h*1000))"
   ]
  },
  {
   "cell_type": "markdown",
   "metadata": {},
   "source": [
    "## Problem 2 (points 10)\n",
    "\n",
    "What is the transverse coherence width of sunlight? The apparent angular diameter of the sun is 0.5 degrees and the mean effective wavelength is 600nm."
   ]
  },
  {
   "cell_type": "code",
   "execution_count": 3,
   "metadata": {},
   "outputs": [
    {
     "name": "stdout",
     "output_type": "stream",
     "text": [
      "The transverse coherence width of sunlight is 84 microns\n"
     ]
    }
   ],
   "source": [
    "lambda0 = 600e-9 # [m]\n",
    "theta_sun = 0.5  # [degrees]\n",
    "\n",
    "# YOUR CODE HERE\n",
    "raise NotImplementedError()\n",
    "\n",
    "print(\"The transverse coherence width of sunlight is %.0f microns\" % (1e6*l_transverse))"
   ]
  },
  {
   "cell_type": "markdown",
   "metadata": {},
   "source": [
    "## Problem 3\n",
    "You and your partner did Young's two slit experiment.  When you got home, you discovered that your lab partner tilted the screen with the two slits (so that the reflected light would not go back into the HeNe laser and destablize it).  The collimated beam of light hit at an angle $\\phi$ from the normal and the screen had two narrow slits separated by a distance $a$.  You still need to complete the analysis of the data that your collected."
   ]
  },
  {
   "cell_type": "markdown",
   "metadata": {},
   "source": [
    "### Problem 3a (points 5)\n",
    "\n",
    "<img src=\"https://omlc.org/~prahl/host/450/week4/problem3a.pdf\" width=\"40%\">\n",
    "\n",
    "What is the path difference of light arriving at the two slits?"
   ]
  },
  {
   "cell_type": "markdown",
   "metadata": {},
   "source": [
    "---\n",
    "## <span style=\"color:red\">Student Answer</span>\n",
    "\n",
    "*Double-click and add your answer between the lines*\n",
    "\n",
    "---"
   ]
  },
  {
   "cell_type": "markdown",
   "metadata": {},
   "source": [
    "### Problem 3b (points 5)\n",
    "What is the path difference for light *just* from the slits to a position $y$ on a screen at an angle $\\theta$? "
   ]
  },
  {
   "cell_type": "markdown",
   "metadata": {},
   "source": [
    "---\n",
    "## <span style=\"color:red\">Student Answer</span>\n",
    "\n",
    "*Double-click and add your answer between the lines*\n",
    "\n",
    "---"
   ]
  },
  {
   "cell_type": "markdown",
   "metadata": {},
   "source": [
    "### Problem 3c (points 10)\n",
    "What is an equation $\\theta_m$ for the $m$th maximum in the small angle approximation? "
   ]
  },
  {
   "cell_type": "markdown",
   "metadata": {},
   "source": [
    "---\n",
    "## <span style=\"color:red\">Student Answer</span>\n",
    "\n",
    "*Double-click and add your answer between the lines*\n",
    "\n",
    "---"
   ]
  },
  {
   "cell_type": "markdown",
   "metadata": {},
   "source": [
    "## Problem 4 (points 10)\n",
    "\n",
    "A pinhole of $d=0.5$mm diameter is used as a source for a Young double-slit interference experiment. A sodium lamp ($\\lambda = 590$nm) is used. If the distance from the source to the double-slit aperture is $L=500$mm, what is the maximum slit spacing $a$ such that interference fringes are just observable? "
   ]
  },
  {
   "cell_type": "code",
   "execution_count": 5,
   "metadata": {},
   "outputs": [
    {
     "name": "stdout",
     "output_type": "stream",
     "text": [
      "The maximum slit spacing is 720 microns\n"
     ]
    }
   ],
   "source": [
    "lambda0 = 590e-9   # m\n",
    "L = 500e-3         # m\n",
    "d = 0.5e-3         # m\n",
    "\n",
    "# YOUR CODE HERE\n",
    "raise NotImplementedError()\n",
    "\n",
    "print(\"The maximum slit spacing is %.0f microns\"%(1e6*a))"
   ]
  },
  {
   "cell_type": "markdown",
   "metadata": {},
   "source": [
    "## Problem 5\n",
    "When a thin film of transparent plastic is placed over one of the slits in Young's double-slit experiment, the central bright fringe of a white-light fringe system, is displaced by 4$1\\over2$ fringes. The refractive index of the material is 1.480, and the effective wavelength of the light is 550nm. "
   ]
  },
  {
   "cell_type": "markdown",
   "metadata": {},
   "source": [
    "### Problem 5a (points 5)\n",
    " By how much does the film increase the optical path?"
   ]
  },
  {
   "cell_type": "code",
   "execution_count": 6,
   "metadata": {},
   "outputs": [
    {
     "name": "stdout",
     "output_type": "stream",
     "text": [
      "The optical path is increased by 7 nm\n"
     ]
    }
   ],
   "source": [
    "lambda0 = 550e-9   # m\n",
    "n = 1.480 \n",
    "nfringes = 4.5 #  number of fringes\n",
    "\n",
    "# YOUR CODE HERE\n",
    "raise NotImplementedError()\n",
    "\n",
    "print(\"The optical path is increased by %.0f nm\" % (1e9*opt_path))"
   ]
  },
  {
   "cell_type": "markdown",
   "metadata": {},
   "source": [
    "### Problem 5b (points 5)\n",
    " What is the thickness of the film? "
   ]
  },
  {
   "cell_type": "code",
   "execution_count": 7,
   "metadata": {},
   "outputs": [
    {
     "name": "stdout",
     "output_type": "stream",
     "text": [
      "The thickness of the film is 5.16 microns\n"
     ]
    }
   ],
   "source": [
    "lambda0 = 550e-9   # m\n",
    "n = 1.480 \n",
    "nfringes = 4.5 #  number of fringes\n",
    "\n",
    "# YOUR CODE HERE\n",
    "raise NotImplementedError()\n",
    "\n",
    "print(\"The thickness of the film is %.2f microns\" % (thickness * 1e6))"
   ]
  },
  {
   "cell_type": "markdown",
   "metadata": {},
   "source": [
    "### Problem 5c (points 10)\n",
    "Why is nothing seen if a perfectly flat piece of glass 1.0mm thick were used?"
   ]
  },
  {
   "cell_type": "markdown",
   "metadata": {},
   "source": [
    "---\n",
    "## <span style=\"color:red\">Student Answer</span>\n",
    "\n",
    "*Double-click and add your answer between the lines*\n",
    "\n",
    "---"
   ]
  },
  {
   "cell_type": "markdown",
   "metadata": {},
   "source": [
    "## Problem 6 (points 10)\n",
    "You're listening AM radio KWBY in Wilsonville at 940kHz &mdash; who knows why.  One signal path is between you and the KWBY tower in Woodburn.  You notice interference on the radio when a plane flies directly over your head.  You guess this is due to the radio tower waves being reflected off the plane.  Determine the lowest height that the plane could need to be if it is directly overhead.  Determine the next three possible heights of the plane. (Assume that the reflected wave does not undergo a phase change upon reflection off the plane.)"
   ]
  },
  {
   "cell_type": "markdown",
   "metadata": {},
   "source": [
    "---\n",
    "## <span style=\"color:red\">Student Answer</span>\n",
    "\n",
    "*Double-click and add your answer between the lines*\n",
    "\n",
    "---"
   ]
  },
  {
   "cell_type": "markdown",
   "metadata": {},
   "source": [
    "## Problem 7 (points 10)\n",
    "Two microscope slides are placed together but held apart at one end by a thin piece of tin foil forming a tapering air gap between the slides. Sodium light (589nm) at normal incidence exhibits exactly 40 bright fringes from the edges in contact to the edge of the tin foil. Determine the thickness of the foil."
   ]
  },
  {
   "cell_type": "code",
   "execution_count": 10,
   "metadata": {},
   "outputs": [
    {
     "name": "stdout",
     "output_type": "stream",
     "text": [
      "The thickness of foil is 11.8 microns\n"
     ]
    }
   ],
   "source": [
    "lambda0 = 589e-9 # m\n",
    "spots = 40       # number of bright spots\n",
    "n = 1            # index of refraction\n",
    "\n",
    "# YOUR CODE HERE\n",
    "raise NotImplementedError()\n",
    "\n",
    "print(\"The thickness of foil is %.1f microns\" % (d*1e6))"
   ]
  },
  {
   "cell_type": "markdown",
   "metadata": {},
   "source": [
    "## Problem 8 (points 10)\n",
    "When one mirror of a Michelson interferometer is translated by 0.114mm, 523 fringes are observed to pass the cross hairs of the viewing telescope. Calculate the wavelength of the light. "
   ]
  },
  {
   "cell_type": "code",
   "execution_count": 11,
   "metadata": {},
   "outputs": [
    {
     "name": "stdout",
     "output_type": "stream",
     "text": [
      "The wavelength is 436 nm\n"
     ]
    }
   ],
   "source": [
    "d = 0.114e-3 #m\n",
    "n =1\n",
    "fringes = 523\n",
    "\n",
    "# YOUR CODE HERE\n",
    "raise NotImplementedError()\n",
    "\n",
    "print(\"The wavelength is %.0f nm\" % (1e9*lambda0))"
   ]
  },
  {
   "cell_type": "markdown",
   "metadata": {},
   "source": [
    "## Problem 9 (550 students, points 10)\n",
    "A Fresnel biprism of index 1.7320 and with apex angles of 0.850° is used to form interference fringes. Find the fringe separation for red light of wavelength 656.3nm when the distance between the slit and the prism is 250 mm and that between the prism and the screen is 750 mm."
   ]
  },
  {
   "cell_type": "code",
   "execution_count": 12,
   "metadata": {},
   "outputs": [],
   "source": [
    "# YOUR CODE HERE\n",
    "raise NotImplementedError()"
   ]
  },
  {
   "cell_type": "markdown",
   "metadata": {},
   "source": [
    "## Problem 10 (550 students, points 10)\n",
    "\n",
    "What must be the angle in degrees between the two Fresnel mirrors in order to produce sodium light fringes 1.0 mm apart if the slit is 400 mm from the mirror intersection and the screen is 1500 mm from the slit? "
   ]
  },
  {
   "cell_type": "code",
   "execution_count": 13,
   "metadata": {},
   "outputs": [],
   "source": [
    "# YOUR CODE HERE\n",
    "raise NotImplementedError()"
   ]
  },
  {
   "cell_type": "markdown",
   "metadata": {},
   "source": [
    "## Problem 11 (550 students, points 15)\n",
    "Imagine that we chop a continuous laserbeam (assumed to be monochromatic at 632.8 nm) into 0.1 ns pulses, using some sort of shutter. Compute the resultant linewidth $\\Delta\\lambda$, bandwidth, and coherence length. Find the bandwidth and linewidth that would result if we could chop at 1000 THz."
   ]
  },
  {
   "cell_type": "code",
   "execution_count": 14,
   "metadata": {},
   "outputs": [],
   "source": [
    "# YOUR CODE HERE\n",
    "raise NotImplementedError()"
   ]
  },
  {
   "cell_type": "markdown",
   "metadata": {},
   "source": [
    "## Problem 12 (550 students, points 15)\n",
    "Suppose that we have a filter with a pass band of 1.0 Å centered at 600 nm, and we illuminate it with sunlight. Compute the coherence length of the emerging wave."
   ]
  },
  {
   "cell_type": "code",
   "execution_count": 15,
   "metadata": {},
   "outputs": [],
   "source": [
    "# YOUR CODE HERE\n",
    "raise NotImplementedError()"
   ]
  },
  {
   "cell_type": "markdown",
   "metadata": {},
   "source": [
    "---\n",
    "## <span style=\"color:red\">Student Answer</span>\n",
    "\n",
    "*Double-click and add your answer between the lines*\n",
    "\n",
    "---"
   ]
  }
 ],
 "metadata": {
  "kernelspec": {
   "display_name": "Python 3",
   "language": "python",
   "name": "python3"
  },
  "language_info": {
   "codemirror_mode": {
    "name": "ipython",
    "version": 3
   },
   "file_extension": ".py",
   "mimetype": "text/x-python",
   "name": "python",
   "nbconvert_exporter": "python",
   "pygments_lexer": "ipython3",
   "version": "3.7.1"
  }
 },
 "nbformat": 4,
 "nbformat_minor": 2
}
